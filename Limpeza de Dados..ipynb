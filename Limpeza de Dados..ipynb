{
 "cells": [
  {
   "cell_type": "markdown",
   "id": "1e8f6d16",
   "metadata": {},
   "source": [
    "# LIMPEZA DE DADOS EM UM DATABASE."
   ]
  },
  {
   "cell_type": "markdown",
   "id": "a0622660",
   "metadata": {},
   "source": [
    "**1. Definição do Problema**\n",
    "\n",
    "Um banco tem uma base da dados, realizando uma Análise podemos observar que há uma alta cardinalidade.Desta forma precisamos tratar estes dados!"
   ]
  },
  {
   "cell_type": "markdown",
   "id": "4874da69",
   "metadata": {},
   "source": [
    "**2. Importando os dados do banco, podemos observar se o pagamento foi realizado ou não.**\n",
    "Para importar utilizamos a biblioteca pandas que possibilita a importação do arquivo para manipularmos os dados."
   ]
  },
  {
   "cell_type": "code",
   "execution_count": null,
   "id": "9c6e6869",
   "metadata": {},
   "outputs": [],
   "source": [
    "import pandas as pd"
   ]
  },
  {
   "cell_type": "code",
   "execution_count": null,
   "id": "adf45271",
   "metadata": {},
   "outputs": [],
   "source": [
    "base=pd.read_excel(r\"C:\\Users\\Administrador\\Downloads\\ChavesClientes.xlsx\",sheet_name = \"base\")"
   ]
  },
  {
   "cell_type": "code",
   "execution_count": 14,
   "id": "d2373066",
   "metadata": {
    "scrolled": true
   },
   "outputs": [
    {
     "data": {
      "text/html": [
       "<div>\n",
       "<style scoped>\n",
       "    .dataframe tbody tr th:only-of-type {\n",
       "        vertical-align: middle;\n",
       "    }\n",
       "\n",
       "    .dataframe tbody tr th {\n",
       "        vertical-align: top;\n",
       "    }\n",
       "\n",
       "    .dataframe thead th {\n",
       "        text-align: right;\n",
       "    }\n",
       "</style>\n",
       "<table border=\"1\" class=\"dataframe\">\n",
       "  <thead>\n",
       "    <tr style=\"text-align: right;\">\n",
       "      <th></th>\n",
       "      <th>ID</th>\n",
       "      <th>ChaveSituacao</th>\n",
       "      <th>ClassRisco</th>\n",
       "      <th>CatCliente</th>\n",
       "      <th>Pagamento</th>\n",
       "    </tr>\n",
       "  </thead>\n",
       "  <tbody>\n",
       "    <tr>\n",
       "      <th>0</th>\n",
       "      <td>1</td>\n",
       "      <td>32FC</td>\n",
       "      <td>Ccinza</td>\n",
       "      <td>Basic-Alpha</td>\n",
       "      <td>1</td>\n",
       "    </tr>\n",
       "    <tr>\n",
       "      <th>1</th>\n",
       "      <td>2</td>\n",
       "      <td>25MV</td>\n",
       "      <td>AAmarelo</td>\n",
       "      <td>Black</td>\n",
       "      <td>1</td>\n",
       "    </tr>\n",
       "    <tr>\n",
       "      <th>2</th>\n",
       "      <td>3</td>\n",
       "      <td>27MV</td>\n",
       "      <td>B-Amarelo</td>\n",
       "      <td>Basic-Beta</td>\n",
       "      <td>1</td>\n",
       "    </tr>\n",
       "    <tr>\n",
       "      <th>3</th>\n",
       "      <td>4</td>\n",
       "      <td>26FD</td>\n",
       "      <td>BAmarelo</td>\n",
       "      <td>Black</td>\n",
       "      <td>0</td>\n",
       "    </tr>\n",
       "    <tr>\n",
       "      <th>4</th>\n",
       "      <td>5</td>\n",
       "      <td>26FD</td>\n",
       "      <td>C-Amarelo</td>\n",
       "      <td>Black</td>\n",
       "      <td>0</td>\n",
       "    </tr>\n",
       "  </tbody>\n",
       "</table>\n",
       "</div>"
      ],
      "text/plain": [
       "   ID ChaveSituacao ClassRisco   CatCliente  Pagamento\n",
       "0   1          32FC     Ccinza  Basic-Alpha          1\n",
       "1   2          25MV   AAmarelo        Black          1\n",
       "2   3          27MV  B-Amarelo   Basic-Beta          1\n",
       "3   4          26FD   BAmarelo        Black          0\n",
       "4   5          26FD  C-Amarelo        Black          0"
      ]
     },
     "execution_count": 14,
     "metadata": {},
     "output_type": "execute_result"
    }
   ],
   "source": [
    "base.head()"
   ]
  },
  {
   "cell_type": "markdown",
   "id": "4ac168ac",
   "metadata": {},
   "source": [
    "**3. Verificando a cardionalidade dos dados.**"
   ]
  },
  {
   "cell_type": "code",
   "execution_count": 15,
   "id": "7aa6c903",
   "metadata": {
    "scrolled": true
   },
   "outputs": [
    {
     "data": {
      "text/plain": [
       "Pagamento  ChaveSituacao\n",
       "0          26FD             2\n",
       "           28FC             2\n",
       "           28MD             1\n",
       "           30FC             1\n",
       "           31MD             1\n",
       "1          25FD             1\n",
       "           25FV             1\n",
       "           25MV             1\n",
       "           26MC             2\n",
       "           27MC             1\n",
       "           27MD             2\n",
       "           27MV             1\n",
       "           28FS             1\n",
       "           29MV             1\n",
       "           31MV             1\n",
       "           32FC             1\n",
       "Name: Pagamento, dtype: int64"
      ]
     },
     "execution_count": 15,
     "metadata": {},
     "output_type": "execute_result"
    }
   ],
   "source": [
    "base.groupby([\"Pagamento\",\"ChaveSituacao\"])[\"Pagamento\"].count()"
   ]
  },
  {
   "cell_type": "markdown",
   "id": "45ebd2f4",
   "metadata": {},
   "source": [
    "Podemos observar que os dados estão misturados e bagunçados. \n",
    "Ao entrar em contato com o responsável pela área, foi informado o que cada coluna representa. Assim sendo:\n",
    "Ao mapear com o responsável pela área, ele informou o que representa cada coluna:\n",
    "   - ChaveSituacao: formado por:\n",
    "    - Idade do cliente (a idade mínima para ser cliente é 18 anos)\n",
    "    - Gênero do cliente:\n",
    "        - M: Masculino\n",
    "        - F: Feminino\n",
    "    - Estado civil do cliente:\n",
    "        - S: solteiro\n",
    "        - C: casado\n",
    "        - D: divorciado\n",
    "        - V: viúvo\n",
    "    - ClassRisco: formado por:\n",
    "        - Classificação do cliente como (A,B,C) e indicador (+,- ou vazio)\n",
    "        - Cor do cliente de acordo com um modelo de churn interno da empresa\n",
    "    - CatCliente: formado por:\n",
    "        - Categoria do cartão: qual o tipo de cartão do cliente:\n",
    "            - Basic\n",
    "            - Black\n",
    "            - Platinum\n",
    "    - Categoria VIP: categoria do cliente VIP (caso exista)\n",
    "        - Alpha\n",
    "        - Beta"
   ]
  },
  {
   "cell_type": "code",
   "execution_count": null,
   "id": "374d31b1",
   "metadata": {},
   "outputs": [],
   "source": [
    "base['Idade'] = base.ChaveSituacao.str[:2] ## utilizando as duas primeiras strings para formar a idade.\n",
    "base['Genero'] = base.ChaveSituacao.str[2:3] ## utilizando a terceira strinig para formar o Gênero.\n",
    "base['EstadoCivil'] = base.ChaveSituacao.str[-1] ## utilizando a ultima string para formar o Estado Civil."
   ]
  },
  {
   "cell_type": "code",
   "execution_count": 30,
   "id": "d77aae8e",
   "metadata": {},
   "outputs": [
    {
     "data": {
      "text/plain": [
       "Pagamento  EstadoCivil\n",
       "0          C              3\n",
       "           D              4\n",
       "1          C              4\n",
       "           D              3\n",
       "           S              1\n",
       "           V              5\n",
       "Name: Pagamento, dtype: int64"
      ]
     },
     "execution_count": 30,
     "metadata": {},
     "output_type": "execute_result"
    }
   ],
   "source": [
    "base.groupby([\"Pagamento\",\"EstadoCivil\"])[\"Pagamento\"].count()"
   ]
  },
  {
   "cell_type": "markdown",
   "id": "61db8d7f",
   "metadata": {},
   "source": [
    "Verificando os dados podemos notar que agora estão com Categorias adequadas e por exemplo, que todos os viúvos pagaram suas dívidas."
   ]
  },
  {
   "cell_type": "code",
   "execution_count": 31,
   "id": "8bc99b1c",
   "metadata": {},
   "outputs": [],
   "source": [
    "base['Categoria'] = base.CatCliente.str.split('-').str.get(0) ## Enviando dados antes do - para Categoria.\n",
    "base['CatVIP'] = base.CatCliente.str.split('-').str.get(1)  ## Enviando dados depois do - para CatVip."
   ]
  },
  {
   "cell_type": "code",
   "execution_count": 32,
   "id": "4294e680",
   "metadata": {
    "scrolled": true
   },
   "outputs": [
    {
     "data": {
      "text/html": [
       "<div>\n",
       "<style scoped>\n",
       "    .dataframe tbody tr th:only-of-type {\n",
       "        vertical-align: middle;\n",
       "    }\n",
       "\n",
       "    .dataframe tbody tr th {\n",
       "        vertical-align: top;\n",
       "    }\n",
       "\n",
       "    .dataframe thead th {\n",
       "        text-align: right;\n",
       "    }\n",
       "</style>\n",
       "<table border=\"1\" class=\"dataframe\">\n",
       "  <thead>\n",
       "    <tr style=\"text-align: right;\">\n",
       "      <th></th>\n",
       "      <th>ID</th>\n",
       "      <th>ChaveSituacao</th>\n",
       "      <th>ClassRisco</th>\n",
       "      <th>CatCliente</th>\n",
       "      <th>Pagamento</th>\n",
       "      <th>Idade</th>\n",
       "      <th>Genero</th>\n",
       "      <th>EstadoCivil</th>\n",
       "      <th>Risco</th>\n",
       "      <th>Categoria</th>\n",
       "      <th>CatVIP</th>\n",
       "    </tr>\n",
       "  </thead>\n",
       "  <tbody>\n",
       "    <tr>\n",
       "      <th>0</th>\n",
       "      <td>1</td>\n",
       "      <td>32FC</td>\n",
       "      <td>Ccinza</td>\n",
       "      <td>Basic-Alpha</td>\n",
       "      <td>1</td>\n",
       "      <td>32</td>\n",
       "      <td>F</td>\n",
       "      <td>C</td>\n",
       "      <td>C</td>\n",
       "      <td>Basic</td>\n",
       "      <td>Alpha</td>\n",
       "    </tr>\n",
       "    <tr>\n",
       "      <th>1</th>\n",
       "      <td>2</td>\n",
       "      <td>25MV</td>\n",
       "      <td>AAmarelo</td>\n",
       "      <td>Black</td>\n",
       "      <td>1</td>\n",
       "      <td>25</td>\n",
       "      <td>M</td>\n",
       "      <td>V</td>\n",
       "      <td>A</td>\n",
       "      <td>Black</td>\n",
       "      <td>NaN</td>\n",
       "    </tr>\n",
       "    <tr>\n",
       "      <th>2</th>\n",
       "      <td>3</td>\n",
       "      <td>27MV</td>\n",
       "      <td>B-Amarelo</td>\n",
       "      <td>Basic-Beta</td>\n",
       "      <td>1</td>\n",
       "      <td>27</td>\n",
       "      <td>M</td>\n",
       "      <td>V</td>\n",
       "      <td>B-</td>\n",
       "      <td>Basic</td>\n",
       "      <td>Beta</td>\n",
       "    </tr>\n",
       "    <tr>\n",
       "      <th>3</th>\n",
       "      <td>4</td>\n",
       "      <td>26FD</td>\n",
       "      <td>BAmarelo</td>\n",
       "      <td>Black</td>\n",
       "      <td>0</td>\n",
       "      <td>26</td>\n",
       "      <td>F</td>\n",
       "      <td>D</td>\n",
       "      <td>B</td>\n",
       "      <td>Black</td>\n",
       "      <td>NaN</td>\n",
       "    </tr>\n",
       "    <tr>\n",
       "      <th>4</th>\n",
       "      <td>5</td>\n",
       "      <td>26FD</td>\n",
       "      <td>C-Amarelo</td>\n",
       "      <td>Black</td>\n",
       "      <td>0</td>\n",
       "      <td>26</td>\n",
       "      <td>F</td>\n",
       "      <td>D</td>\n",
       "      <td>C-</td>\n",
       "      <td>Black</td>\n",
       "      <td>NaN</td>\n",
       "    </tr>\n",
       "  </tbody>\n",
       "</table>\n",
       "</div>"
      ],
      "text/plain": [
       "   ID ChaveSituacao ClassRisco   CatCliente  Pagamento Idade Genero  \\\n",
       "0   1          32FC     Ccinza  Basic-Alpha          1    32      F   \n",
       "1   2          25MV   AAmarelo        Black          1    25      M   \n",
       "2   3          27MV  B-Amarelo   Basic-Beta          1    27      M   \n",
       "3   4          26FD   BAmarelo        Black          0    26      F   \n",
       "4   5          26FD  C-Amarelo        Black          0    26      F   \n",
       "\n",
       "  EstadoCivil Risco Categoria CatVIP  \n",
       "0           C     C     Basic  Alpha  \n",
       "1           V     A     Black    NaN  \n",
       "2           V    B-     Basic   Beta  \n",
       "3           D     B     Black    NaN  \n",
       "4           D    C-     Black    NaN  "
      ]
     },
     "execution_count": 32,
     "metadata": {},
     "output_type": "execute_result"
    }
   ],
   "source": [
    "base.head()"
   ]
  },
  {
   "cell_type": "markdown",
   "id": "01451eee",
   "metadata": {},
   "source": [
    "Como agora para realizar a separação dos dados não conseguimos utilizar apenas o critério de um traço, iremos utilizar o Regex que possibilita identificar as cadeias de forma mais específica."
   ]
  },
  {
   "cell_type": "code",
   "execution_count": 33,
   "id": "429d3f08",
   "metadata": {},
   "outputs": [],
   "source": [
    "import re"
   ]
  },
  {
   "cell_type": "code",
   "execution_count": 34,
   "id": "9d4a1c8b",
   "metadata": {},
   "outputs": [],
   "source": [
    "base['Risco'] = base.ClassRisco.apply(lambda x: re.findall('^[A-Z][^A-Za-z]?',x)[0]) ##filtrando apenas a primeira letra de ClassRisco."
   ]
  },
  {
   "cell_type": "code",
   "execution_count": 35,
   "id": "d30f3f7b",
   "metadata": {},
   "outputs": [
    {
     "name": "stdout",
     "output_type": "stream",
     "text": [
      "<class 'pandas.core.frame.DataFrame'>\n",
      "RangeIndex: 20 entries, 0 to 19\n",
      "Data columns (total 11 columns):\n",
      " #   Column         Non-Null Count  Dtype \n",
      "---  ------         --------------  ----- \n",
      " 0   ID             20 non-null     int64 \n",
      " 1   ChaveSituacao  20 non-null     object\n",
      " 2   ClassRisco     20 non-null     object\n",
      " 3   CatCliente     20 non-null     object\n",
      " 4   Pagamento      20 non-null     int64 \n",
      " 5   Idade          20 non-null     object\n",
      " 6   Genero         20 non-null     object\n",
      " 7   EstadoCivil    20 non-null     object\n",
      " 8   Risco          20 non-null     object\n",
      " 9   Categoria      20 non-null     object\n",
      " 10  CatVIP         8 non-null      object\n",
      "dtypes: int64(2), object(9)\n",
      "memory usage: 1.8+ KB\n"
     ]
    }
   ],
   "source": [
    "base.info() "
   ]
  },
  {
   "cell_type": "code",
   "execution_count": 36,
   "id": "36095205",
   "metadata": {},
   "outputs": [],
   "source": [
    "base['Idade'] = pd.to_numeric(base['Idade']) ## transformando a Coluna Idade para o tipo Númerico. "
   ]
  },
  {
   "cell_type": "code",
   "execution_count": 37,
   "id": "b73d6eea",
   "metadata": {},
   "outputs": [
    {
     "name": "stdout",
     "output_type": "stream",
     "text": [
      "<class 'pandas.core.frame.DataFrame'>\n",
      "RangeIndex: 20 entries, 0 to 19\n",
      "Data columns (total 11 columns):\n",
      " #   Column         Non-Null Count  Dtype \n",
      "---  ------         --------------  ----- \n",
      " 0   ID             20 non-null     int64 \n",
      " 1   ChaveSituacao  20 non-null     object\n",
      " 2   ClassRisco     20 non-null     object\n",
      " 3   CatCliente     20 non-null     object\n",
      " 4   Pagamento      20 non-null     int64 \n",
      " 5   Idade          20 non-null     int64 \n",
      " 6   Genero         20 non-null     object\n",
      " 7   EstadoCivil    20 non-null     object\n",
      " 8   Risco          20 non-null     object\n",
      " 9   Categoria      20 non-null     object\n",
      " 10  CatVIP         8 non-null      object\n",
      "dtypes: int64(3), object(8)\n",
      "memory usage: 1.8+ KB\n"
     ]
    }
   ],
   "source": [
    "base.info()"
   ]
  },
  {
   "cell_type": "code",
   "execution_count": 38,
   "id": "d993c2b4",
   "metadata": {},
   "outputs": [],
   "source": [
    "base.loc[base.CatVIP.isnull(),\"CatVIP\"]=\"Comum\" #Atribuindo valor para Cliente Comum em CatVIP."
   ]
  },
  {
   "cell_type": "code",
   "execution_count": 39,
   "id": "a1ba5c7d",
   "metadata": {},
   "outputs": [
    {
     "name": "stdout",
     "output_type": "stream",
     "text": [
      "<class 'pandas.core.frame.DataFrame'>\n",
      "RangeIndex: 20 entries, 0 to 19\n",
      "Data columns (total 11 columns):\n",
      " #   Column         Non-Null Count  Dtype \n",
      "---  ------         --------------  ----- \n",
      " 0   ID             20 non-null     int64 \n",
      " 1   ChaveSituacao  20 non-null     object\n",
      " 2   ClassRisco     20 non-null     object\n",
      " 3   CatCliente     20 non-null     object\n",
      " 4   Pagamento      20 non-null     int64 \n",
      " 5   Idade          20 non-null     int64 \n",
      " 6   Genero         20 non-null     object\n",
      " 7   EstadoCivil    20 non-null     object\n",
      " 8   Risco          20 non-null     object\n",
      " 9   Categoria      20 non-null     object\n",
      " 10  CatVIP         20 non-null     object\n",
      "dtypes: int64(3), object(8)\n",
      "memory usage: 1.8+ KB\n"
     ]
    }
   ],
   "source": [
    "base.info()"
   ]
  },
  {
   "cell_type": "code",
   "execution_count": 40,
   "id": "8a18380d",
   "metadata": {},
   "outputs": [
    {
     "data": {
      "text/plain": [
       "Pagamento  Risco\n",
       "0          B        2\n",
       "           C-       5\n",
       "1          A        3\n",
       "           A-       4\n",
       "           B-       2\n",
       "           C        3\n",
       "           C+       1\n",
       "Name: Pagamento, dtype: int64"
      ]
     },
     "execution_count": 40,
     "metadata": {},
     "output_type": "execute_result"
    }
   ],
   "source": [
    "base.groupby([\"Pagamento\",\"Risco\"])[\"Pagamento\"].count() # Podemos observar que clientes do tipo C não realizaram pagamento."
   ]
  },
  {
   "cell_type": "code",
   "execution_count": 41,
   "id": "de536992",
   "metadata": {},
   "outputs": [
    {
     "data": {
      "text/html": [
       "<div>\n",
       "<style scoped>\n",
       "    .dataframe tbody tr th:only-of-type {\n",
       "        vertical-align: middle;\n",
       "    }\n",
       "\n",
       "    .dataframe tbody tr th {\n",
       "        vertical-align: top;\n",
       "    }\n",
       "\n",
       "    .dataframe thead th {\n",
       "        text-align: right;\n",
       "    }\n",
       "</style>\n",
       "<table border=\"1\" class=\"dataframe\">\n",
       "  <thead>\n",
       "    <tr style=\"text-align: right;\">\n",
       "      <th></th>\n",
       "      <th>ID</th>\n",
       "      <th>ChaveSituacao</th>\n",
       "      <th>ClassRisco</th>\n",
       "      <th>CatCliente</th>\n",
       "      <th>Pagamento</th>\n",
       "      <th>Idade</th>\n",
       "      <th>Genero</th>\n",
       "      <th>EstadoCivil</th>\n",
       "      <th>Risco</th>\n",
       "      <th>Categoria</th>\n",
       "      <th>CatVIP</th>\n",
       "    </tr>\n",
       "  </thead>\n",
       "  <tbody>\n",
       "    <tr>\n",
       "      <th>0</th>\n",
       "      <td>1</td>\n",
       "      <td>32FC</td>\n",
       "      <td>Ccinza</td>\n",
       "      <td>Basic-Alpha</td>\n",
       "      <td>1</td>\n",
       "      <td>32</td>\n",
       "      <td>F</td>\n",
       "      <td>C</td>\n",
       "      <td>C</td>\n",
       "      <td>Basic</td>\n",
       "      <td>Alpha</td>\n",
       "    </tr>\n",
       "    <tr>\n",
       "      <th>1</th>\n",
       "      <td>2</td>\n",
       "      <td>25MV</td>\n",
       "      <td>AAmarelo</td>\n",
       "      <td>Black</td>\n",
       "      <td>1</td>\n",
       "      <td>25</td>\n",
       "      <td>M</td>\n",
       "      <td>V</td>\n",
       "      <td>A</td>\n",
       "      <td>Black</td>\n",
       "      <td>Comum</td>\n",
       "    </tr>\n",
       "    <tr>\n",
       "      <th>2</th>\n",
       "      <td>3</td>\n",
       "      <td>27MV</td>\n",
       "      <td>B-Amarelo</td>\n",
       "      <td>Basic-Beta</td>\n",
       "      <td>1</td>\n",
       "      <td>27</td>\n",
       "      <td>M</td>\n",
       "      <td>V</td>\n",
       "      <td>B-</td>\n",
       "      <td>Basic</td>\n",
       "      <td>Beta</td>\n",
       "    </tr>\n",
       "    <tr>\n",
       "      <th>3</th>\n",
       "      <td>4</td>\n",
       "      <td>26FD</td>\n",
       "      <td>BAmarelo</td>\n",
       "      <td>Black</td>\n",
       "      <td>0</td>\n",
       "      <td>26</td>\n",
       "      <td>F</td>\n",
       "      <td>D</td>\n",
       "      <td>B</td>\n",
       "      <td>Black</td>\n",
       "      <td>Comum</td>\n",
       "    </tr>\n",
       "    <tr>\n",
       "      <th>4</th>\n",
       "      <td>5</td>\n",
       "      <td>26FD</td>\n",
       "      <td>C-Amarelo</td>\n",
       "      <td>Black</td>\n",
       "      <td>0</td>\n",
       "      <td>26</td>\n",
       "      <td>F</td>\n",
       "      <td>D</td>\n",
       "      <td>C-</td>\n",
       "      <td>Black</td>\n",
       "      <td>Comum</td>\n",
       "    </tr>\n",
       "  </tbody>\n",
       "</table>\n",
       "</div>"
      ],
      "text/plain": [
       "   ID ChaveSituacao ClassRisco   CatCliente  Pagamento  Idade Genero  \\\n",
       "0   1          32FC     Ccinza  Basic-Alpha          1     32      F   \n",
       "1   2          25MV   AAmarelo        Black          1     25      M   \n",
       "2   3          27MV  B-Amarelo   Basic-Beta          1     27      M   \n",
       "3   4          26FD   BAmarelo        Black          0     26      F   \n",
       "4   5          26FD  C-Amarelo        Black          0     26      F   \n",
       "\n",
       "  EstadoCivil Risco Categoria CatVIP  \n",
       "0           C     C     Basic  Alpha  \n",
       "1           V     A     Black  Comum  \n",
       "2           V    B-     Basic   Beta  \n",
       "3           D     B     Black  Comum  \n",
       "4           D    C-     Black  Comum  "
      ]
     },
     "execution_count": 41,
     "metadata": {},
     "output_type": "execute_result"
    }
   ],
   "source": [
    "base.head()"
   ]
  },
  {
   "cell_type": "code",
   "execution_count": 42,
   "id": "c2131741",
   "metadata": {},
   "outputs": [],
   "source": [
    "base.drop([\"ChaveSituacao\"], axis=1, inplace=True) # Excluindo todas as Colunas que estavam com dados misturados."
   ]
  },
  {
   "cell_type": "code",
   "execution_count": 45,
   "id": "c41e4ab0",
   "metadata": {},
   "outputs": [],
   "source": [
    "base.drop([\"CatCliente\"], axis=1, inplace=True)"
   ]
  },
  {
   "cell_type": "code",
   "execution_count": null,
   "id": "0d78771b",
   "metadata": {},
   "outputs": [],
   "source": [
    "base.drop([\"ChaveSituacao\"], axis=1, inplace=True)"
   ]
  },
  {
   "cell_type": "code",
   "execution_count": 46,
   "id": "66e5a46c",
   "metadata": {},
   "outputs": [
    {
     "data": {
      "text/html": [
       "<div>\n",
       "<style scoped>\n",
       "    .dataframe tbody tr th:only-of-type {\n",
       "        vertical-align: middle;\n",
       "    }\n",
       "\n",
       "    .dataframe tbody tr th {\n",
       "        vertical-align: top;\n",
       "    }\n",
       "\n",
       "    .dataframe thead th {\n",
       "        text-align: right;\n",
       "    }\n",
       "</style>\n",
       "<table border=\"1\" class=\"dataframe\">\n",
       "  <thead>\n",
       "    <tr style=\"text-align: right;\">\n",
       "      <th></th>\n",
       "      <th>ID</th>\n",
       "      <th>Pagamento</th>\n",
       "      <th>Idade</th>\n",
       "      <th>Genero</th>\n",
       "      <th>EstadoCivil</th>\n",
       "      <th>Risco</th>\n",
       "      <th>Categoria</th>\n",
       "      <th>CatVIP</th>\n",
       "    </tr>\n",
       "  </thead>\n",
       "  <tbody>\n",
       "    <tr>\n",
       "      <th>0</th>\n",
       "      <td>1</td>\n",
       "      <td>1</td>\n",
       "      <td>32</td>\n",
       "      <td>F</td>\n",
       "      <td>C</td>\n",
       "      <td>C</td>\n",
       "      <td>Basic</td>\n",
       "      <td>Alpha</td>\n",
       "    </tr>\n",
       "    <tr>\n",
       "      <th>1</th>\n",
       "      <td>2</td>\n",
       "      <td>1</td>\n",
       "      <td>25</td>\n",
       "      <td>M</td>\n",
       "      <td>V</td>\n",
       "      <td>A</td>\n",
       "      <td>Black</td>\n",
       "      <td>Comum</td>\n",
       "    </tr>\n",
       "    <tr>\n",
       "      <th>2</th>\n",
       "      <td>3</td>\n",
       "      <td>1</td>\n",
       "      <td>27</td>\n",
       "      <td>M</td>\n",
       "      <td>V</td>\n",
       "      <td>B-</td>\n",
       "      <td>Basic</td>\n",
       "      <td>Beta</td>\n",
       "    </tr>\n",
       "    <tr>\n",
       "      <th>3</th>\n",
       "      <td>4</td>\n",
       "      <td>0</td>\n",
       "      <td>26</td>\n",
       "      <td>F</td>\n",
       "      <td>D</td>\n",
       "      <td>B</td>\n",
       "      <td>Black</td>\n",
       "      <td>Comum</td>\n",
       "    </tr>\n",
       "    <tr>\n",
       "      <th>4</th>\n",
       "      <td>5</td>\n",
       "      <td>0</td>\n",
       "      <td>26</td>\n",
       "      <td>F</td>\n",
       "      <td>D</td>\n",
       "      <td>C-</td>\n",
       "      <td>Black</td>\n",
       "      <td>Comum</td>\n",
       "    </tr>\n",
       "  </tbody>\n",
       "</table>\n",
       "</div>"
      ],
      "text/plain": [
       "   ID  Pagamento  Idade Genero EstadoCivil Risco Categoria CatVIP\n",
       "0   1          1     32      F           C     C     Basic  Alpha\n",
       "1   2          1     25      M           V     A     Black  Comum\n",
       "2   3          1     27      M           V    B-     Basic   Beta\n",
       "3   4          0     26      F           D     B     Black  Comum\n",
       "4   5          0     26      F           D    C-     Black  Comum"
      ]
     },
     "execution_count": 46,
     "metadata": {},
     "output_type": "execute_result"
    }
   ],
   "source": [
    "base.head()"
   ]
  }
 ],
 "metadata": {
  "kernelspec": {
   "display_name": "Python 3 (ipykernel)",
   "language": "python",
   "name": "python3"
  },
  "language_info": {
   "codemirror_mode": {
    "name": "ipython",
    "version": 3
   },
   "file_extension": ".py",
   "mimetype": "text/x-python",
   "name": "python",
   "nbconvert_exporter": "python",
   "pygments_lexer": "ipython3",
   "version": "3.9.12"
  }
 },
 "nbformat": 4,
 "nbformat_minor": 5
}
